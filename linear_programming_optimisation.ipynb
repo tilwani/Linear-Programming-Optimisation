{
 "cells": [
  {
   "cell_type": "markdown",
   "metadata": {},
   "source": [
    "<h2>Linear Programming Optimisation</h2><\\br> "
   ]
  },
  {
   "cell_type": "markdown",
   "metadata": {},
   "source": [
    "<b>Rohit Kumar Tilwani, Sai Pramodh Sabarissan</b>"
   ]
  },
  {
   "cell_type": "markdown",
   "metadata": {},
   "source": [
    "<h4>Problem Statement:</h4> For the given problem statement, we require to minimize the cost of electricity production while also ensuring that the supply meets the demand, that varies hourly over the period of 24 hours for a single day. The resources provided are ten generators with different configurations which can be tuned as per the demand.\n",
    "\n",
    "<h4>Notations:</h4> Since demand and supply from generators depends on time, we define T as the set of integer values in [1, 24], denoting the hour of the day. Demand at any time t can be represented as Dt , where t ϵ T. Let H, SD, G, SLR be the sets of hydro, solid, gas, and solar generators respectively. Also, let Px,t denote the production of any generator x at time t, where t ϵ T."
   ]
  },
  {
   "cell_type": "code",
   "execution_count": 1,
   "metadata": {},
   "outputs": [],
   "source": [
    "# importing the required packages\n",
    "import pandas as pd\n",
    "from ortools.linear_solver import pywraplp\n",
    "from collections import defaultdict\n",
    "import itertools\n",
    "import matplotlib.pyplot as plt\n",
    "from matplotlib.pyplot import figure\n",
    "import numpy as np"
   ]
  },
  {
   "cell_type": "code",
   "execution_count": 2,
   "metadata": {},
   "outputs": [],
   "source": [
    "# reading all the given data\n",
    "elec_demand = pd.read_csv(\"demand.csv\", header = None)\n",
    "gen_limits = pd.read_csv(\"generator_info.csv\")\n",
    "solar_out_ratio = pd.read_csv(\"solar_curve.csv\", header = None)"
   ]
  },
  {
   "cell_type": "code",
   "execution_count": 3,
   "metadata": {},
   "outputs": [],
   "source": [
    "# daclaring the solver instance\n",
    "solver = pywraplp.Solver.CreateSolver(\"GLOP\")"
   ]
  },
  {
   "cell_type": "code",
   "execution_count": 4,
   "metadata": {},
   "outputs": [],
   "source": [
    "# getters for the demand and solar_factor for a particular hour\n",
    "def get_demand(hour):\n",
    "    return elec_demand.iloc[hour-1, 0]\n",
    "def get_solar_out_factor(hour):\n",
    "    return solar_out_ratio.iloc[hour-1, 0]"
   ]
  },
  {
   "cell_type": "markdown",
   "metadata": {},
   "source": [
    "<h4>Constraints and Decision Variables:</h4> Apart from the lower and upper bound constraints of generators which are already given, we also have a constraint that at any time t ϵ T, supply from all generators should be equal to demand. Using the above notations, it can be defined as:"
   ]
  },
  {
   "cell_type": "markdown",
   "metadata": {},
   "source": [
    "$\\sum P_{h,t}\\ \\forall\\ h \\in H + \\sum P_{s,t}\\ \\forall\\ s\\in SD + \\sum P_{g,t}\\ \\forall\\ g\\in G + \\sum P_{r,t}\\ \\forall\\ r \\in SLR=D_{t}\\ \\ \\ \\ \\ ...\\ eq(i)$"
   ]
  },
  {
   "cell_type": "markdown",
   "metadata": {},
   "source": [
    "Another constraint we have is on three solid generators, either of which has production equal to the production of the previous hour. It can be written as: \n",
    "            "
   ]
  },
  {
   "cell_type": "markdown",
   "metadata": {},
   "source": [
    "$P_{s,t} =P_{s,t-1}\\ \\forall\\ s \\in SD , \\forall\\ t \\in T-\\{1\\}\\ \\ \\ \\ \\ ...\\ eq(ii)$ "
   ]
  },
  {
   "cell_type": "markdown",
   "metadata": {},
   "source": [
    "The decision variables for the problem are the productions of all of the generators in 24 hours as shown in eq(i). Hence the total number of decision variables is 24 * 10 = 240.\n",
    "Below is the code for the addition of decision variables and then the constraints."
   ]
  },
  {
   "cell_type": "code",
   "execution_count": 5,
   "metadata": {},
   "outputs": [],
   "source": [
    "# adding the variable and returning the reference of the variable\n",
    "def add_variable(solver, gen, name):\n",
    "    lower, upper = float(gen[\"lower_bound (MW)\"]), float(gen[\"upper_bound (MW)\"])\n",
    "    if gen[\"type\"] == \"solar\":\n",
    "        # changing upper limit of solar generator depending on the time hour\n",
    "        upper = float(gen[\"upper_bound (MW)\"]) * get_solar_out_factor(hour)\n",
    "    exec(f\"{name} = solver.NumVar(lower, upper, name)\")\n",
    "    return eval(f\"{name}\")"
   ]
  },
  {
   "cell_type": "code",
   "execution_count": 6,
   "metadata": {},
   "outputs": [],
   "source": [
    "# adding variables for all generators for all hours\n",
    "var_ref = defaultdict(list)  # storing the variable references for further use in grouping\n",
    "for index, gen in gen_limits.iterrows():\n",
    "    var_name_prefix = f\"{gen['type']}_{gen['name']}\"  # variable name prefix\n",
    "    lower, upper = float(gen[\"lower_bound (MW)\"]), float(gen[\"upper_bound (MW)\"])\n",
    "    \n",
    "    # adding variables for 24 hours for the current generator\n",
    "    for hour in range(1, 25):\n",
    "        var_name = var_name_prefix + \"_hr_\" + str(hour)\n",
    "        # keeping the returned reference in the var_ref\n",
    "        var_ref[gen[\"type\"]].append(add_variable(solver, gen, var_name))"
   ]
  },
  {
   "cell_type": "code",
   "execution_count": 7,
   "metadata": {},
   "outputs": [],
   "source": [
    "# groubing of variables by their name, to be used while adding constraints\n",
    "gen_vars_namewise = defaultdict(list)\n",
    "for key, group in itertools.groupby(var_ref[\"hydro\"] + var_ref[\"solid\"] + var_ref[\"gas\"] + var_ref[\"solar\"], lambda x: str(x).split(\"_\")[1][0]):\n",
    "    gen_vars_namewise[key] = list(group)"
   ]
  },
  {
   "cell_type": "code",
   "execution_count": 8,
   "metadata": {},
   "outputs": [],
   "source": [
    "# adding all constraints\n",
    "for t in range(1, 25):\n",
    "    demand = get_demand(t)\n",
    "    var_index = t - 1\n",
    "    production = sum([gen_vars_namewise[gen_name][var_index] for gen_name in \"ABCDEFGHIJ\"])\n",
    "    cons_name = \"cons_demand_\" + str(t)\n",
    "    solver.Add(production == demand, name = cons_name)\n",
    "    if t < 24:\n",
    "        for solid_gen_name in \"EFG\":\n",
    "            cons_name = \"cons_solid_\" + str(solid_gen_name) + str(t)\n",
    "            solver.Add(gen_vars_namewise[solid_gen_name][t] == gen_vars_namewise[solid_gen_name][t - 1], name = cons_name)"
   ]
  },
  {
   "cell_type": "markdown",
   "metadata": {},
   "source": [
    "<h4>Objective Function:</h4> Objective is the minimization of the cost which is provided in EUR/MW. We define the total cost for the day as the production of generators multiplied by their corresponding cost information provided, as shown below."
   ]
  },
  {
   "cell_type": "markdown",
   "metadata": {},
   "source": [
    "$Cost,C= 1.4 *\\sum P_{h,t}\\ \\forall\\ h \\in H,\\forall\\ t \\in T \\\\\\ \\ \\ \\ \\ \\ \\ \\ \\ \\ \\ \\ \\ \\ \\ \\ + 4.4 * \\sum P_{s,t}\\ \\forall\\ S \\in SD, \\forall\\ t\\in T \\\\\\ \\ \\ \\ \\ \\ \\ \\ \\ \\ \\ \\ \\ \\ \\ \\ +9.1 *\\sum P_{g,t}\\ \\forall\\ g\\in G, \\forall\\ t\\in T \\\\\\ \\ \\ \\ \\ \\ \\ \\ \\ \\ \\ \\ \\ \\ \\ \\ + 6.4 *\\sum P_{r,t}\\ \\forall\\ r \\in SLR, \\forall\\ t\\in T\\ \\ \\ \\ \\ ...\\ eq(iii)$"
   ]
  },
  {
   "cell_type": "code",
   "execution_count": 9,
   "metadata": {},
   "outputs": [],
   "source": [
    "# defining Objective function as per the given cost\n",
    "solver.Minimize(1.4 * sum(var_ref[\"hydro\"])  \n",
    "                + 4.4 * sum(var_ref[\"solid\"])\n",
    "                + 9.1 * sum(var_ref[\"gas\"]) \n",
    "                + 6.4 * sum(var_ref[\"solar\"]))"
   ]
  },
  {
   "cell_type": "code",
   "execution_count": 10,
   "metadata": {},
   "outputs": [],
   "source": [
    "# running the optimisation\n",
    "run_status = solver.Solve()"
   ]
  },
  {
   "cell_type": "code",
   "execution_count": 11,
   "metadata": {},
   "outputs": [
    {
     "name": "stdout",
     "output_type": "stream",
     "text": [
      "Cost:  151504.50000000003\n"
     ]
    }
   ],
   "source": [
    "# printing out the values and variables\n",
    "if run_status == pywraplp.Solver.OPTIMAL:\n",
    "    print('Cost: ', solver.Objective().Value())\n",
    "    #for var in solver.variables():\n",
    "       # print(str(var), var.solution_value())"
   ]
  },
  {
   "cell_type": "markdown",
   "metadata": {},
   "source": [
    "<h4>Result:</h4> On solving the above equations using OR-tools in Python, the minimum cost incurred for maintaining the required supply along with the constraints is EUR 151504.5."
   ]
  },
  {
   "cell_type": "markdown",
   "metadata": {},
   "source": [
    "The activity and slack for each of the generator in every hour can be calculated as shown in the following piece of code."
   ]
  },
  {
   "cell_type": "code",
   "execution_count": 12,
   "metadata": {},
   "outputs": [
    {
     "data": {
      "text/html": [
       "<div>\n",
       "<style scoped>\n",
       "    .dataframe tbody tr th:only-of-type {\n",
       "        vertical-align: middle;\n",
       "    }\n",
       "\n",
       "    .dataframe tbody tr th {\n",
       "        vertical-align: top;\n",
       "    }\n",
       "\n",
       "    .dataframe thead th {\n",
       "        text-align: right;\n",
       "    }\n",
       "</style>\n",
       "<table border=\"1\" class=\"dataframe\">\n",
       "  <thead>\n",
       "    <tr style=\"text-align: right;\">\n",
       "      <th></th>\n",
       "      <th>type</th>\n",
       "      <th>name</th>\n",
       "      <th>hour</th>\n",
       "      <th>var_name</th>\n",
       "      <th>activity</th>\n",
       "      <th>slack</th>\n",
       "      <th>binding</th>\n",
       "    </tr>\n",
       "  </thead>\n",
       "  <tbody>\n",
       "    <tr>\n",
       "      <th>0</th>\n",
       "      <td>hydro</td>\n",
       "      <td>A</td>\n",
       "      <td>1</td>\n",
       "      <td>hydro_A_hr_1</td>\n",
       "      <td>69.0</td>\n",
       "      <td>31.0</td>\n",
       "      <td>False</td>\n",
       "    </tr>\n",
       "    <tr>\n",
       "      <th>1</th>\n",
       "      <td>hydro</td>\n",
       "      <td>A</td>\n",
       "      <td>2</td>\n",
       "      <td>hydro_A_hr_2</td>\n",
       "      <td>54.0</td>\n",
       "      <td>46.0</td>\n",
       "      <td>False</td>\n",
       "    </tr>\n",
       "    <tr>\n",
       "      <th>2</th>\n",
       "      <td>hydro</td>\n",
       "      <td>A</td>\n",
       "      <td>3</td>\n",
       "      <td>hydro_A_hr_3</td>\n",
       "      <td>54.0</td>\n",
       "      <td>46.0</td>\n",
       "      <td>False</td>\n",
       "    </tr>\n",
       "    <tr>\n",
       "      <th>3</th>\n",
       "      <td>hydro</td>\n",
       "      <td>A</td>\n",
       "      <td>4</td>\n",
       "      <td>hydro_A_hr_4</td>\n",
       "      <td>46.0</td>\n",
       "      <td>54.0</td>\n",
       "      <td>False</td>\n",
       "    </tr>\n",
       "    <tr>\n",
       "      <th>4</th>\n",
       "      <td>hydro</td>\n",
       "      <td>A</td>\n",
       "      <td>5</td>\n",
       "      <td>hydro_A_hr_5</td>\n",
       "      <td>33.0</td>\n",
       "      <td>67.0</td>\n",
       "      <td>False</td>\n",
       "    </tr>\n",
       "    <tr>\n",
       "      <th>...</th>\n",
       "      <td>...</td>\n",
       "      <td>...</td>\n",
       "      <td>...</td>\n",
       "      <td>...</td>\n",
       "      <td>...</td>\n",
       "      <td>...</td>\n",
       "      <td>...</td>\n",
       "    </tr>\n",
       "    <tr>\n",
       "      <th>235</th>\n",
       "      <td>solar</td>\n",
       "      <td>J</td>\n",
       "      <td>20</td>\n",
       "      <td>solar_J_hr_20</td>\n",
       "      <td>0.0</td>\n",
       "      <td>0.0</td>\n",
       "      <td>True</td>\n",
       "    </tr>\n",
       "    <tr>\n",
       "      <th>236</th>\n",
       "      <td>solar</td>\n",
       "      <td>J</td>\n",
       "      <td>21</td>\n",
       "      <td>solar_J_hr_21</td>\n",
       "      <td>0.0</td>\n",
       "      <td>0.0</td>\n",
       "      <td>True</td>\n",
       "    </tr>\n",
       "    <tr>\n",
       "      <th>237</th>\n",
       "      <td>solar</td>\n",
       "      <td>J</td>\n",
       "      <td>22</td>\n",
       "      <td>solar_J_hr_22</td>\n",
       "      <td>0.0</td>\n",
       "      <td>0.0</td>\n",
       "      <td>True</td>\n",
       "    </tr>\n",
       "    <tr>\n",
       "      <th>238</th>\n",
       "      <td>solar</td>\n",
       "      <td>J</td>\n",
       "      <td>23</td>\n",
       "      <td>solar_J_hr_23</td>\n",
       "      <td>0.0</td>\n",
       "      <td>0.0</td>\n",
       "      <td>True</td>\n",
       "    </tr>\n",
       "    <tr>\n",
       "      <th>239</th>\n",
       "      <td>solar</td>\n",
       "      <td>J</td>\n",
       "      <td>24</td>\n",
       "      <td>solar_J_hr_24</td>\n",
       "      <td>0.0</td>\n",
       "      <td>0.0</td>\n",
       "      <td>True</td>\n",
       "    </tr>\n",
       "  </tbody>\n",
       "</table>\n",
       "<p>240 rows × 7 columns</p>\n",
       "</div>"
      ],
      "text/plain": [
       "      type name hour       var_name  activity  slack  binding\n",
       "0    hydro    A    1   hydro_A_hr_1      69.0   31.0    False\n",
       "1    hydro    A    2   hydro_A_hr_2      54.0   46.0    False\n",
       "2    hydro    A    3   hydro_A_hr_3      54.0   46.0    False\n",
       "3    hydro    A    4   hydro_A_hr_4      46.0   54.0    False\n",
       "4    hydro    A    5   hydro_A_hr_5      33.0   67.0    False\n",
       "..     ...  ...  ...            ...       ...    ...      ...\n",
       "235  solar    J   20  solar_J_hr_20       0.0    0.0     True\n",
       "236  solar    J   21  solar_J_hr_21       0.0    0.0     True\n",
       "237  solar    J   22  solar_J_hr_22       0.0    0.0     True\n",
       "238  solar    J   23  solar_J_hr_23       0.0    0.0     True\n",
       "239  solar    J   24  solar_J_hr_24       0.0    0.0     True\n",
       "\n",
       "[240 rows x 7 columns]"
      ]
     },
     "execution_count": 12,
     "metadata": {},
     "output_type": "execute_result"
    }
   ],
   "source": [
    "result_df = pd.DataFrame(columns = [\"type\", \"name\", \"hour\", \"var_name\", \"activity\", \"slack\"])\n",
    "for variable in solver.variables():\n",
    "    name_split = variable.name().split(\"_\")\n",
    "    result_df.loc[len(result_df)] = [name_split[0], name_split[1], int(name_split[3]), variable.name(), variable.solution_value(), variable.ub() - variable.solution_value()]\n",
    "    \n",
    "result_df[\"binding\"] = result_df[\"slack\"].map(lambda x: x == 0)\n",
    "result_df"
   ]
  },
  {
   "cell_type": "markdown",
   "metadata": {},
   "source": [
    "<h4>Visualisation: </h4>\n",
    "Since the cost is not effected by distribution of production within a certain category, for e.g. cost of 100 MW of hydro production is same irrespective of how much each hydro generator is producing, we can focus on variations within generator categories."
   ]
  },
  {
   "cell_type": "markdown",
   "metadata": {},
   "source": [
    "We use matplotlib to plot the aggregate production vs time for all generator classes except for solid (which is always taking the constant values) as shown below:"
   ]
  },
  {
   "cell_type": "code",
   "execution_count": 13,
   "metadata": {},
   "outputs": [
    {
     "data": {
      "image/png": "[encoded data removed]",
      "text/plain": [
       "<Figure size 700x400 with 1 Axes>"
      ]
     },
     "metadata": {
      "needs_background": "light"
     },
     "output_type": "display_data"
    }
   ],
   "source": [
    "# visualising the aggregate result\n",
    "figure(figsize=(7, 4), dpi = 100)\n",
    "for t in result_df[\"type\"].unique():\n",
    "    if t == \"solid\":continue\n",
    "    df = result_df[result_df[\"type\"] == t].groupby(\"hour\").agg(\"sum\")\n",
    "    plt.plot(list(df.index), df[\"activity\"], label = t)\n",
    "for v_line, color in zip([7, 17, 22], [\"brown\", \"blue\", \"orange\"]): plt.axvline(x = v_line, c = color, linestyle = \"dashdot\")\n",
    "plt.legend(loc = \"upper left\", bbox_to_anchor = (1, 1.028),prop = {\"size\": 8})\n",
    "plt.xlabel(\"time (hour)\", fontdict = {\"fontweight\": \"bold\"});plt.ylabel(\"Production (MW)\", fontdict = {\"fontweight\": \"bold\"})\n",
    "t = plt.xticks(np.arange(0, 25, 1.0))"
   ]
  },
  {
   "cell_type": "markdown",
   "metadata": {},
   "source": [
    "<h4>Analysis and Interpretation:</h4>It can be observed from the vertical lines at hour 7 and 17 that whenever the demand increases, priority is given to hydro production, since it is cheapest resource available, followed by solar and gas respectively. And also, on the same principle, hydro generator production is the last one to be decreased as can be see on hour = 22. The algorithm tries to fulfill demand using hydro, solar, gas in decreasing order of preference. It can also be seen that the hydro generators are the binding resources (slack = 0) from hour 8 to hour 22, as the production is equal to sum of upper bounds of all generators."
   ]
  },
  {
   "cell_type": "markdown",
   "metadata": {},
   "source": [
    "Hence, the upper bound constraints on hydro generators and lower bound constraint on gas generator turn out to be most important as they are directly influencing the cost. i.e. higher upper bound of hydro generators and lesser lower bound of gas generators will further minimize the production cost."
   ]
  }
 ],
 "metadata": {
  "kernelspec": {
   "display_name": "Python 3",
   "language": "python",
   "name": "python3"
  },
  "language_info": {
   "codemirror_mode": {
    "name": "ipython",
    "version": 3
   },
   "file_extension": ".py",
   "mimetype": "text/x-python",
   "name": "python",
   "nbconvert_exporter": "python",
   "pygments_lexer": "ipython3",
   "version": "3.8.3"
  }
 },
 "nbformat": 4,
 "nbformat_minor": 4
}
